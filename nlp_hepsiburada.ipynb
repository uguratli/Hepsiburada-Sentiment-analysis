{
 "cells": [
  {
   "cell_type": "code",
   "execution_count": 1,
   "metadata": {},
   "outputs": [
    {
     "name": "stderr",
     "output_type": "stream",
     "text": [
      "[nltk_data] Downloading package stopwords to\n",
      "[nltk_data]     C:\\Users\\atliu\\AppData\\Roaming\\nltk_data...\n",
      "[nltk_data]   Package stopwords is already up-to-date!\n"
     ]
    }
   ],
   "source": [
    "from req import *"
   ]
  },
  {
   "cell_type": "markdown",
   "metadata": {},
   "source": [
    "# Data Preparation"
   ]
  },
  {
   "cell_type": "code",
   "execution_count": 2,
   "metadata": {},
   "outputs": [],
   "source": [
    "positive_df = pd.read_pickle('raw_positive.pkl')\n",
    "negative_df = pd.read_pickle('raw_negative.pkl')"
   ]
  },
  {
   "cell_type": "code",
   "execution_count": 3,
   "metadata": {},
   "outputs": [
    {
     "data": {
      "text/html": [
       "<div>\n",
       "<style scoped>\n",
       "    .dataframe tbody tr th:only-of-type {\n",
       "        vertical-align: middle;\n",
       "    }\n",
       "\n",
       "    .dataframe tbody tr th {\n",
       "        vertical-align: top;\n",
       "    }\n",
       "\n",
       "    .dataframe thead th {\n",
       "        text-align: right;\n",
       "    }\n",
       "</style>\n",
       "<table border=\"1\" class=\"dataframe\">\n",
       "  <thead>\n",
       "    <tr style=\"text-align: right;\">\n",
       "      <th></th>\n",
       "      <th>Comment</th>\n",
       "      <th>Rate</th>\n",
       "      <th>Seller</th>\n",
       "      <th>Date</th>\n",
       "    </tr>\n",
       "  </thead>\n",
       "  <tbody>\n",
       "    <tr>\n",
       "      <th>0</th>\n",
       "      <td>NaN</td>\n",
       "      <td>5</td>\n",
       "      <td></td>\n",
       "      <td>2024-02-22</td>\n",
       "    </tr>\n",
       "    <tr>\n",
       "      <th>1</th>\n",
       "      <td>NaN</td>\n",
       "      <td>5</td>\n",
       "      <td></td>\n",
       "      <td>2024-02-19</td>\n",
       "    </tr>\n",
       "    <tr>\n",
       "      <th>2</th>\n",
       "      <td>NaN</td>\n",
       "      <td>5</td>\n",
       "      <td></td>\n",
       "      <td>2024-02-19</td>\n",
       "    </tr>\n",
       "    <tr>\n",
       "      <th>3</th>\n",
       "      <td>NaN</td>\n",
       "      <td>4</td>\n",
       "      <td></td>\n",
       "      <td>2024-02-17</td>\n",
       "    </tr>\n",
       "    <tr>\n",
       "      <th>4</th>\n",
       "      <td>NaN</td>\n",
       "      <td>5</td>\n",
       "      <td></td>\n",
       "      <td>2024-02-16</td>\n",
       "    </tr>\n",
       "  </tbody>\n",
       "</table>\n",
       "</div>"
      ],
      "text/plain": [
       "  Comment Rate Seller        Date\n",
       "0     NaN    5         2024-02-22\n",
       "1     NaN    5         2024-02-19\n",
       "2     NaN    5         2024-02-19\n",
       "3     NaN    4         2024-02-17\n",
       "4     NaN    5         2024-02-16"
      ]
     },
     "execution_count": 3,
     "metadata": {},
     "output_type": "execute_result"
    }
   ],
   "source": [
    "df = pd.concat([positive_df,negative_df], axis=0, ignore_index=True)\n",
    "df.head()"
   ]
  },
  {
   "cell_type": "code",
   "execution_count": 4,
   "metadata": {},
   "outputs": [
    {
     "name": "stdout",
     "output_type": "stream",
     "text": [
      "<class 'pandas.core.frame.DataFrame'>\n",
      "RangeIndex: 58406 entries, 0 to 58405\n",
      "Data columns (total 4 columns):\n",
      " #   Column   Non-Null Count  Dtype \n",
      "---  ------   --------------  ----- \n",
      " 0   Comment  29569 non-null  object\n",
      " 1   Rate     58406 non-null  object\n",
      " 2   Seller   58377 non-null  object\n",
      " 3   Date     58406 non-null  object\n",
      "dtypes: object(4)\n",
      "memory usage: 1.8+ MB\n"
     ]
    }
   ],
   "source": [
    "df.info()"
   ]
  },
  {
   "cell_type": "code",
   "execution_count": 5,
   "metadata": {},
   "outputs": [],
   "source": [
    "df.drop_duplicates(inplace=True)\n",
    "df.dropna(inplace=True)\n",
    "df['Date'] = df['Date'].apply(time_it)\n",
    "df['Rate'] = df['Rate'].apply(pd.to_numeric)"
   ]
  },
  {
   "cell_type": "code",
   "execution_count": 6,
   "metadata": {},
   "outputs": [
    {
     "name": "stdout",
     "output_type": "stream",
     "text": [
      "<class 'pandas.core.frame.DataFrame'>\n",
      "Int64Index: 21087 entries, 6 to 50915\n",
      "Data columns (total 4 columns):\n",
      " #   Column   Non-Null Count  Dtype         \n",
      "---  ------   --------------  -----         \n",
      " 0   Comment  21087 non-null  object        \n",
      " 1   Rate     21087 non-null  int64         \n",
      " 2   Seller   21087 non-null  object        \n",
      " 3   Date     21087 non-null  datetime64[ns]\n",
      "dtypes: datetime64[ns](1), int64(1), object(2)\n",
      "memory usage: 823.7+ KB\n"
     ]
    }
   ],
   "source": [
    "df.info()"
   ]
  },
  {
   "cell_type": "code",
   "execution_count": 7,
   "metadata": {},
   "outputs": [
    {
     "data": {
      "text/html": [
       "<div>\n",
       "<style scoped>\n",
       "    .dataframe tbody tr th:only-of-type {\n",
       "        vertical-align: middle;\n",
       "    }\n",
       "\n",
       "    .dataframe tbody tr th {\n",
       "        vertical-align: top;\n",
       "    }\n",
       "\n",
       "    .dataframe thead th {\n",
       "        text-align: right;\n",
       "    }\n",
       "</style>\n",
       "<table border=\"1\" class=\"dataframe\">\n",
       "  <thead>\n",
       "    <tr style=\"text-align: right;\">\n",
       "      <th></th>\n",
       "      <th>Comment</th>\n",
       "      <th>Rate</th>\n",
       "      <th>Seller</th>\n",
       "      <th>Date</th>\n",
       "      <th>Normal_Rate</th>\n",
       "    </tr>\n",
       "  </thead>\n",
       "  <tbody>\n",
       "    <tr>\n",
       "      <th>6</th>\n",
       "      <td>bu üründen 2 tane eskittim. yeterli ve güzel b...</td>\n",
       "      <td>5</td>\n",
       "      <td></td>\n",
       "      <td>2024-02-16</td>\n",
       "      <td>1</td>\n",
       "    </tr>\n",
       "    <tr>\n",
       "      <th>9</th>\n",
       "      <td>Ürün sahte çıktı. Orjinallerde şarj kablosunda...</td>\n",
       "      <td>5</td>\n",
       "      <td></td>\n",
       "      <td>2024-02-07</td>\n",
       "      <td>1</td>\n",
       "    </tr>\n",
       "    <tr>\n",
       "      <th>14</th>\n",
       "      <td>Kulaklığı Eylül 2021’den beri kullanıyorum ger...</td>\n",
       "      <td>5</td>\n",
       "      <td></td>\n",
       "      <td>2024-01-30</td>\n",
       "      <td>1</td>\n",
       "    </tr>\n",
       "    <tr>\n",
       "      <th>15</th>\n",
       "      <td>2 sene sonra 1 tanesi şarj tutmadı, hemen pili...</td>\n",
       "      <td>4</td>\n",
       "      <td></td>\n",
       "      <td>2024-01-24</td>\n",
       "      <td>1</td>\n",
       "    </tr>\n",
       "    <tr>\n",
       "      <th>17</th>\n",
       "      <td>İdare eder</td>\n",
       "      <td>5</td>\n",
       "      <td></td>\n",
       "      <td>2024-01-23</td>\n",
       "      <td>1</td>\n",
       "    </tr>\n",
       "  </tbody>\n",
       "</table>\n",
       "</div>"
      ],
      "text/plain": [
       "                                              Comment  Rate Seller       Date  \\\n",
       "6   bu üründen 2 tane eskittim. yeterli ve güzel b...     5        2024-02-16   \n",
       "9   Ürün sahte çıktı. Orjinallerde şarj kablosunda...     5        2024-02-07   \n",
       "14  Kulaklığı Eylül 2021’den beri kullanıyorum ger...     5        2024-01-30   \n",
       "15  2 sene sonra 1 tanesi şarj tutmadı, hemen pili...     4        2024-01-24   \n",
       "17                                         İdare eder     5        2024-01-23   \n",
       "\n",
       "   Normal_Rate  \n",
       "6            1  \n",
       "9            1  \n",
       "14           1  \n",
       "15           1  \n",
       "17           1  "
      ]
     },
     "execution_count": 7,
     "metadata": {},
     "output_type": "execute_result"
    }
   ],
   "source": [
    "bins = [0, 3, 5]\n",
    "labels = [0, 1]\n",
    "df['Normal_Rate'] = pd.cut(df['Rate'], bins=bins, labels=labels)\n",
    "df.head()"
   ]
  },
  {
   "cell_type": "code",
   "execution_count": 8,
   "metadata": {},
   "outputs": [
    {
     "data": {
      "image/png": "[encoded data removed]",
      "text/plain": [
       "<Figure size 640x480 with 1 Axes>"
      ]
     },
     "metadata": {},
     "output_type": "display_data"
    }
   ],
   "source": [
    "df.groupby(['Normal_Rate']).size().plot(kind='bar',ylabel='Count', xlabel='Rate');"
   ]
  },
  {
   "cell_type": "code",
   "execution_count": 9,
   "metadata": {},
   "outputs": [
    {
     "data": {
      "text/html": [
       "<div>\n",
       "<style scoped>\n",
       "    .dataframe tbody tr th:only-of-type {\n",
       "        vertical-align: middle;\n",
       "    }\n",
       "\n",
       "    .dataframe tbody tr th {\n",
       "        vertical-align: top;\n",
       "    }\n",
       "\n",
       "    .dataframe thead th {\n",
       "        text-align: right;\n",
       "    }\n",
       "</style>\n",
       "<table border=\"1\" class=\"dataframe\">\n",
       "  <thead>\n",
       "    <tr style=\"text-align: right;\">\n",
       "      <th></th>\n",
       "      <th>index</th>\n",
       "      <th>Comment</th>\n",
       "      <th>Rate</th>\n",
       "      <th>Seller</th>\n",
       "      <th>Date</th>\n",
       "      <th>Normal_Rate</th>\n",
       "    </tr>\n",
       "  </thead>\n",
       "  <tbody>\n",
       "    <tr>\n",
       "      <th>0</th>\n",
       "      <td>6</td>\n",
       "      <td>bu üründen 2 tane eskittim. yeterli ve güzel b...</td>\n",
       "      <td>5</td>\n",
       "      <td></td>\n",
       "      <td>2024-02-16</td>\n",
       "      <td>1</td>\n",
       "    </tr>\n",
       "    <tr>\n",
       "      <th>1</th>\n",
       "      <td>14</td>\n",
       "      <td>Kulaklığı Eylül 2021’den beri kullanıyorum ger...</td>\n",
       "      <td>5</td>\n",
       "      <td></td>\n",
       "      <td>2024-01-30</td>\n",
       "      <td>1</td>\n",
       "    </tr>\n",
       "    <tr>\n",
       "      <th>2</th>\n",
       "      <td>15</td>\n",
       "      <td>2 sene sonra 1 tanesi şarj tutmadı, hemen pili...</td>\n",
       "      <td>4</td>\n",
       "      <td></td>\n",
       "      <td>2024-01-24</td>\n",
       "      <td>1</td>\n",
       "    </tr>\n",
       "    <tr>\n",
       "      <th>3</th>\n",
       "      <td>17</td>\n",
       "      <td>İdare eder</td>\n",
       "      <td>5</td>\n",
       "      <td></td>\n",
       "      <td>2024-01-23</td>\n",
       "      <td>1</td>\n",
       "    </tr>\n",
       "    <tr>\n",
       "      <th>4</th>\n",
       "      <td>18</td>\n",
       "      <td>Zaten kullandığım bir ürün .. eşime ve arkadaş...</td>\n",
       "      <td>5</td>\n",
       "      <td></td>\n",
       "      <td>2024-01-22</td>\n",
       "      <td>1</td>\n",
       "    </tr>\n",
       "    <tr>\n",
       "      <th>...</th>\n",
       "      <td>...</td>\n",
       "      <td>...</td>\n",
       "      <td>...</td>\n",
       "      <td>...</td>\n",
       "      <td>...</td>\n",
       "      <td>...</td>\n",
       "    </tr>\n",
       "    <tr>\n",
       "      <th>18852</th>\n",
       "      <td>50908</td>\n",
       "      <td>Herkese Merhaba ,\\n\\nMüzik ve ses deneğimi kon...</td>\n",
       "      <td>5</td>\n",
       "      <td>Hepsiburada</td>\n",
       "      <td>2022-01-18</td>\n",
       "      <td>1</td>\n",
       "    </tr>\n",
       "    <tr>\n",
       "      <th>18853</th>\n",
       "      <td>50909</td>\n",
       "      <td>Ürün elime Zamanında ulaştı Teşekkür ediyorum ...</td>\n",
       "      <td>5</td>\n",
       "      <td>Güneş Elektronik</td>\n",
       "      <td>2022-05-26</td>\n",
       "      <td>1</td>\n",
       "    </tr>\n",
       "    <tr>\n",
       "      <th>18854</th>\n",
       "      <td>50911</td>\n",
       "      <td>Alınabilecek en güzel Bluetooth kulaklık.\\nSes...</td>\n",
       "      <td>5</td>\n",
       "      <td>Hepsiburada</td>\n",
       "      <td>2022-07-03</td>\n",
       "      <td>1</td>\n",
       "    </tr>\n",
       "    <tr>\n",
       "      <th>18855</th>\n",
       "      <td>50913</td>\n",
       "      <td>Kulaklık gerçekten çok kaliteli. Ürün kaliteli...</td>\n",
       "      <td>5</td>\n",
       "      <td>Hepsiburada</td>\n",
       "      <td>2022-11-23</td>\n",
       "      <td>1</td>\n",
       "    </tr>\n",
       "    <tr>\n",
       "      <th>18856</th>\n",
       "      <td>50914</td>\n",
       "      <td>Kulaklığı pazar günü sipariş verdim pazar karg...</td>\n",
       "      <td>5</td>\n",
       "      <td>Hepsiburada</td>\n",
       "      <td>2021-11-08</td>\n",
       "      <td>1</td>\n",
       "    </tr>\n",
       "  </tbody>\n",
       "</table>\n",
       "<p>18857 rows × 6 columns</p>\n",
       "</div>"
      ],
      "text/plain": [
       "       index                                            Comment  Rate  \\\n",
       "0          6  bu üründen 2 tane eskittim. yeterli ve güzel b...     5   \n",
       "1         14  Kulaklığı Eylül 2021’den beri kullanıyorum ger...     5   \n",
       "2         15  2 sene sonra 1 tanesi şarj tutmadı, hemen pili...     4   \n",
       "3         17                                         İdare eder     5   \n",
       "4         18  Zaten kullandığım bir ürün .. eşime ve arkadaş...     5   \n",
       "...      ...                                                ...   ...   \n",
       "18852  50908  Herkese Merhaba ,\\n\\nMüzik ve ses deneğimi kon...     5   \n",
       "18853  50909  Ürün elime Zamanında ulaştı Teşekkür ediyorum ...     5   \n",
       "18854  50911  Alınabilecek en güzel Bluetooth kulaklık.\\nSes...     5   \n",
       "18855  50913  Kulaklık gerçekten çok kaliteli. Ürün kaliteli...     5   \n",
       "18856  50914  Kulaklığı pazar günü sipariş verdim pazar karg...     5   \n",
       "\n",
       "                 Seller       Date Normal_Rate  \n",
       "0                       2024-02-16           1  \n",
       "1                       2024-01-30           1  \n",
       "2                       2024-01-24           1  \n",
       "3                       2024-01-23           1  \n",
       "4                       2024-01-22           1  \n",
       "...                 ...        ...         ...  \n",
       "18852       Hepsiburada 2022-01-18           1  \n",
       "18853  Güneş Elektronik 2022-05-26           1  \n",
       "18854       Hepsiburada 2022-07-03           1  \n",
       "18855       Hepsiburada 2022-11-23           1  \n",
       "18856       Hepsiburada 2021-11-08           1  \n",
       "\n",
       "[18857 rows x 6 columns]"
      ]
     },
     "execution_count": 9,
     "metadata": {},
     "output_type": "execute_result"
    }
   ],
   "source": [
    "#This is not necessary, but I want a balanced data. There are several ways to do this, but I want to do this.\n",
    "counts = df.groupby(['Normal_Rate']).size()\n",
    "drop_count = counts.values[1] - counts.values[0]\n",
    "df.drop(index=(random.choices(df.index[df['Normal_Rate'] == 1].to_list(), k=drop_count)), inplace=True)\n",
    "df.reset_index()"
   ]
  },
  {
   "cell_type": "code",
   "execution_count": 10,
   "metadata": {},
   "outputs": [
    {
     "data": {
      "text/html": [
       "<div>\n",
       "<style scoped>\n",
       "    .dataframe tbody tr th:only-of-type {\n",
       "        vertical-align: middle;\n",
       "    }\n",
       "\n",
       "    .dataframe tbody tr th {\n",
       "        vertical-align: top;\n",
       "    }\n",
       "\n",
       "    .dataframe thead th {\n",
       "        text-align: right;\n",
       "    }\n",
       "</style>\n",
       "<table border=\"1\" class=\"dataframe\">\n",
       "  <thead>\n",
       "    <tr style=\"text-align: right;\">\n",
       "      <th></th>\n",
       "      <th>Comment</th>\n",
       "      <th>Text</th>\n",
       "      <th>Normal_Rate</th>\n",
       "    </tr>\n",
       "  </thead>\n",
       "  <tbody>\n",
       "    <tr>\n",
       "      <th>6</th>\n",
       "      <td>bu üründen 2 tane eskittim. yeterli ve güzel b...</td>\n",
       "      <td>üründen  tane eskittim yeterli güzel bir ürün ...</td>\n",
       "      <td>1</td>\n",
       "    </tr>\n",
       "    <tr>\n",
       "      <th>14</th>\n",
       "      <td>Kulaklığı Eylül 2021’den beri kullanıyorum ger...</td>\n",
       "      <td>kulaklığı eylül ’den beri kullanıyorum gerçekt...</td>\n",
       "      <td>1</td>\n",
       "    </tr>\n",
       "    <tr>\n",
       "      <th>15</th>\n",
       "      <td>2 sene sonra 1 tanesi şarj tutmadı, hemen pili...</td>\n",
       "      <td>sene sonra  tanesi şarj tutmadı hemen pili bi...</td>\n",
       "      <td>1</td>\n",
       "    </tr>\n",
       "    <tr>\n",
       "      <th>17</th>\n",
       "      <td>İdare eder</td>\n",
       "      <td>̇dare eder</td>\n",
       "      <td>1</td>\n",
       "    </tr>\n",
       "    <tr>\n",
       "      <th>18</th>\n",
       "      <td>Zaten kullandığım bir ürün .. eşime ve arkadaş...</td>\n",
       "      <td>zaten kullandığım bir ürün  eşime arkadaşına a...</td>\n",
       "      <td>1</td>\n",
       "    </tr>\n",
       "    <tr>\n",
       "      <th>...</th>\n",
       "      <td>...</td>\n",
       "      <td>...</td>\n",
       "      <td>...</td>\n",
       "    </tr>\n",
       "    <tr>\n",
       "      <th>50908</th>\n",
       "      <td>Herkese Merhaba ,\\n\\nMüzik ve ses deneğimi kon...</td>\n",
       "      <td>herkese merhaba \\n\\nmüzik ses deneğimi konusun...</td>\n",
       "      <td>1</td>\n",
       "    </tr>\n",
       "    <tr>\n",
       "      <th>50909</th>\n",
       "      <td>Ürün elime Zamanında ulaştı Teşekkür ediyorum ...</td>\n",
       "      <td>ürün elime zamanında ulaştı teşekkür ediyorum ...</td>\n",
       "      <td>1</td>\n",
       "    </tr>\n",
       "    <tr>\n",
       "      <th>50911</th>\n",
       "      <td>Alınabilecek en güzel Bluetooth kulaklık.\\nSes...</td>\n",
       "      <td>alınabilecek güzel bluetooth kulaklık\\nses kal...</td>\n",
       "      <td>1</td>\n",
       "    </tr>\n",
       "    <tr>\n",
       "      <th>50913</th>\n",
       "      <td>Kulaklık gerçekten çok kaliteli. Ürün kaliteli...</td>\n",
       "      <td>kulaklık gerçekten kaliteli ürün kaliteli  num...</td>\n",
       "      <td>1</td>\n",
       "    </tr>\n",
       "    <tr>\n",
       "      <th>50914</th>\n",
       "      <td>Kulaklığı pazar günü sipariş verdim pazar karg...</td>\n",
       "      <td>kulaklığı pazar günü sipariş verdim pazar karg...</td>\n",
       "      <td>1</td>\n",
       "    </tr>\n",
       "  </tbody>\n",
       "</table>\n",
       "<p>18857 rows × 3 columns</p>\n",
       "</div>"
      ],
      "text/plain": [
       "                                                 Comment  \\\n",
       "6      bu üründen 2 tane eskittim. yeterli ve güzel b...   \n",
       "14     Kulaklığı Eylül 2021’den beri kullanıyorum ger...   \n",
       "15     2 sene sonra 1 tanesi şarj tutmadı, hemen pili...   \n",
       "17                                            İdare eder   \n",
       "18     Zaten kullandığım bir ürün .. eşime ve arkadaş...   \n",
       "...                                                  ...   \n",
       "50908  Herkese Merhaba ,\\n\\nMüzik ve ses deneğimi kon...   \n",
       "50909  Ürün elime Zamanında ulaştı Teşekkür ediyorum ...   \n",
       "50911  Alınabilecek en güzel Bluetooth kulaklık.\\nSes...   \n",
       "50913  Kulaklık gerçekten çok kaliteli. Ürün kaliteli...   \n",
       "50914  Kulaklığı pazar günü sipariş verdim pazar karg...   \n",
       "\n",
       "                                                    Text Normal_Rate  \n",
       "6      üründen  tane eskittim yeterli güzel bir ürün ...           1  \n",
       "14     kulaklığı eylül ’den beri kullanıyorum gerçekt...           1  \n",
       "15      sene sonra  tanesi şarj tutmadı hemen pili bi...           1  \n",
       "17                                            ̇dare eder           1  \n",
       "18     zaten kullandığım bir ürün  eşime arkadaşına a...           1  \n",
       "...                                                  ...         ...  \n",
       "50908  herkese merhaba \\n\\nmüzik ses deneğimi konusun...           1  \n",
       "50909  ürün elime zamanında ulaştı teşekkür ediyorum ...           1  \n",
       "50911  alınabilecek güzel bluetooth kulaklık\\nses kal...           1  \n",
       "50913  kulaklık gerçekten kaliteli ürün kaliteli  num...           1  \n",
       "50914  kulaklığı pazar günü sipariş verdim pazar karg...           1  \n",
       "\n",
       "[18857 rows x 3 columns]"
      ]
     },
     "execution_count": 10,
     "metadata": {},
     "output_type": "execute_result"
    }
   ],
   "source": [
    "#Preproces can be run with stemmer or without it. It works without stemmer by default. \n",
    "#Appying stemmer, increases preprocess time, but decreases model accuracy and model training time.\n",
    "#For future, with better stemmer or lemmetizer, model can be improved. \n",
    "df['Text'] = df['Comment'].apply(preproces)\n",
    "df[['Comment', 'Text', 'Normal_Rate']]"
   ]
  },
  {
   "cell_type": "code",
   "execution_count": 11,
   "metadata": {},
   "outputs": [
    {
     "data": {
      "text/html": [
       "<div>\n",
       "<style scoped>\n",
       "    .dataframe tbody tr th:only-of-type {\n",
       "        vertical-align: middle;\n",
       "    }\n",
       "\n",
       "    .dataframe tbody tr th {\n",
       "        vertical-align: top;\n",
       "    }\n",
       "\n",
       "    .dataframe thead th {\n",
       "        text-align: right;\n",
       "    }\n",
       "</style>\n",
       "<table border=\"1\" class=\"dataframe\">\n",
       "  <thead>\n",
       "    <tr style=\"text-align: right;\">\n",
       "      <th></th>\n",
       "      <th>Text</th>\n",
       "      <th>Normal_Rate</th>\n",
       "    </tr>\n",
       "  </thead>\n",
       "  <tbody>\n",
       "    <tr>\n",
       "      <th>6</th>\n",
       "      <td>üründen  tane eskittim yeterli güzel bir ürün ...</td>\n",
       "      <td>1</td>\n",
       "    </tr>\n",
       "    <tr>\n",
       "      <th>14</th>\n",
       "      <td>kulaklığı eylül ’den beri kullanıyorum gerçekt...</td>\n",
       "      <td>1</td>\n",
       "    </tr>\n",
       "    <tr>\n",
       "      <th>15</th>\n",
       "      <td>sene sonra  tanesi şarj tutmadı hemen pili bi...</td>\n",
       "      <td>1</td>\n",
       "    </tr>\n",
       "    <tr>\n",
       "      <th>17</th>\n",
       "      <td>̇dare eder</td>\n",
       "      <td>1</td>\n",
       "    </tr>\n",
       "    <tr>\n",
       "      <th>18</th>\n",
       "      <td>zaten kullandığım bir ürün  eşime arkadaşına a...</td>\n",
       "      <td>1</td>\n",
       "    </tr>\n",
       "    <tr>\n",
       "      <th>...</th>\n",
       "      <td>...</td>\n",
       "      <td>...</td>\n",
       "    </tr>\n",
       "    <tr>\n",
       "      <th>50908</th>\n",
       "      <td>herkese merhaba \\n\\nmüzik ses deneğimi konusun...</td>\n",
       "      <td>1</td>\n",
       "    </tr>\n",
       "    <tr>\n",
       "      <th>50909</th>\n",
       "      <td>ürün elime zamanında ulaştı teşekkür ediyorum ...</td>\n",
       "      <td>1</td>\n",
       "    </tr>\n",
       "    <tr>\n",
       "      <th>50911</th>\n",
       "      <td>alınabilecek güzel bluetooth kulaklık\\nses kal...</td>\n",
       "      <td>1</td>\n",
       "    </tr>\n",
       "    <tr>\n",
       "      <th>50913</th>\n",
       "      <td>kulaklık gerçekten kaliteli ürün kaliteli  num...</td>\n",
       "      <td>1</td>\n",
       "    </tr>\n",
       "    <tr>\n",
       "      <th>50914</th>\n",
       "      <td>kulaklığı pazar günü sipariş verdim pazar karg...</td>\n",
       "      <td>1</td>\n",
       "    </tr>\n",
       "  </tbody>\n",
       "</table>\n",
       "<p>18855 rows × 2 columns</p>\n",
       "</div>"
      ],
      "text/plain": [
       "                                                    Text Normal_Rate\n",
       "6      üründen  tane eskittim yeterli güzel bir ürün ...           1\n",
       "14     kulaklığı eylül ’den beri kullanıyorum gerçekt...           1\n",
       "15      sene sonra  tanesi şarj tutmadı hemen pili bi...           1\n",
       "17                                            ̇dare eder           1\n",
       "18     zaten kullandığım bir ürün  eşime arkadaşına a...           1\n",
       "...                                                  ...         ...\n",
       "50908  herkese merhaba \\n\\nmüzik ses deneğimi konusun...           1\n",
       "50909  ürün elime zamanında ulaştı teşekkür ediyorum ...           1\n",
       "50911  alınabilecek güzel bluetooth kulaklık\\nses kal...           1\n",
       "50913  kulaklık gerçekten kaliteli ürün kaliteli  num...           1\n",
       "50914  kulaklığı pazar günü sipariş verdim pazar karg...           1\n",
       "\n",
       "[18855 rows x 2 columns]"
      ]
     },
     "execution_count": 11,
     "metadata": {},
     "output_type": "execute_result"
    }
   ],
   "source": [
    "df.drop(df.index[df['Text'] == ''], inplace=True)\n",
    "model_df = df[['Text','Normal_Rate']]\n",
    "model_df"
   ]
  },
  {
   "cell_type": "markdown",
   "metadata": {},
   "source": [
    "# Model Training"
   ]
  },
  {
   "cell_type": "code",
   "execution_count": 12,
   "metadata": {},
   "outputs": [
    {
     "data": {
      "text/html": [
       "<div>\n",
       "<style scoped>\n",
       "    .dataframe tbody tr th:only-of-type {\n",
       "        vertical-align: middle;\n",
       "    }\n",
       "\n",
       "    .dataframe tbody tr th {\n",
       "        vertical-align: top;\n",
       "    }\n",
       "\n",
       "    .dataframe thead th {\n",
       "        text-align: right;\n",
       "    }\n",
       "</style>\n",
       "<table border=\"1\" class=\"dataframe\">\n",
       "  <thead>\n",
       "    <tr style=\"text-align: right;\">\n",
       "      <th></th>\n",
       "      <th>frequency</th>\n",
       "      <th>word</th>\n",
       "    </tr>\n",
       "  </thead>\n",
       "  <tbody>\n",
       "    <tr>\n",
       "      <th>0</th>\n",
       "      <td>3467</td>\n",
       "      <td>ses</td>\n",
       "    </tr>\n",
       "    <tr>\n",
       "      <th>1</th>\n",
       "      <td>2996</td>\n",
       "      <td>bir</td>\n",
       "    </tr>\n",
       "    <tr>\n",
       "      <th>2</th>\n",
       "      <td>2848</td>\n",
       "      <td>ürün</td>\n",
       "    </tr>\n",
       "    <tr>\n",
       "      <th>3</th>\n",
       "      <td>1678</td>\n",
       "      <td>kulaklık</td>\n",
       "    </tr>\n",
       "    <tr>\n",
       "      <th>4</th>\n",
       "      <td>1454</td>\n",
       "      <td>iade</td>\n",
       "    </tr>\n",
       "  </tbody>\n",
       "</table>\n",
       "</div>"
      ],
      "text/plain": [
       "   frequency      word\n",
       "0       3467       ses\n",
       "1       2996       bir\n",
       "2       2848      ürün\n",
       "3       1678  kulaklık\n",
       "4       1454      iade"
      ]
     },
     "execution_count": 12,
     "metadata": {},
     "output_type": "execute_result"
    }
   ],
   "source": [
    "word_vectorizer = CountVectorizer(ngram_range=(1, 1), analyzer='word')\n",
    "sparse_matrix = word_vectorizer.fit_transform(df[df['Normal_Rate'] == 0]['Text'])\n",
    "frequencies = sum(sparse_matrix).toarray()[0]\n",
    "freq_df = pd.DataFrame(frequencies, index=word_vectorizer.get_feature_names_out(), columns=['frequency']).sort_values(by='frequency', ascending=False)\n",
    "freq_df['word'] = freq_df.index\n",
    "freq_df.reset_index(drop=True, inplace=True)\n",
    "freq_df.head()"
   ]
  },
  {
   "cell_type": "code",
   "execution_count": 16,
   "metadata": {},
   "outputs": [
    {
     "data": {
      "image/png": "[encoded data removed]",
      "text/plain": [
       "<Figure size 640x480 with 1 Axes>"
      ]
     },
     "metadata": {},
     "output_type": "display_data"
    }
   ],
   "source": [
    "freq_df[freq_df['frequency'] > 1000].plot.bar(x='word', y='frequency', title='Top Repeated Words');"
   ]
  },
  {
   "cell_type": "code",
   "execution_count": 17,
   "metadata": {},
   "outputs": [
    {
     "data": {
      "text/html": [
       "<div>\n",
       "<style scoped>\n",
       "    .dataframe tbody tr th:only-of-type {\n",
       "        vertical-align: middle;\n",
       "    }\n",
       "\n",
       "    .dataframe tbody tr th {\n",
       "        vertical-align: top;\n",
       "    }\n",
       "\n",
       "    .dataframe thead th {\n",
       "        text-align: right;\n",
       "    }\n",
       "</style>\n",
       "<table border=\"1\" class=\"dataframe\">\n",
       "  <thead>\n",
       "    <tr style=\"text-align: right;\">\n",
       "      <th></th>\n",
       "      <th>frequency</th>\n",
       "      <th>word</th>\n",
       "    </tr>\n",
       "  </thead>\n",
       "  <tbody>\n",
       "    <tr>\n",
       "      <th>0</th>\n",
       "      <td>3185</td>\n",
       "      <td>iyi</td>\n",
       "    </tr>\n",
       "    <tr>\n",
       "      <th>1</th>\n",
       "      <td>3101</td>\n",
       "      <td>bir</td>\n",
       "    </tr>\n",
       "    <tr>\n",
       "      <th>2</th>\n",
       "      <td>2862</td>\n",
       "      <td>ses</td>\n",
       "    </tr>\n",
       "    <tr>\n",
       "      <th>3</th>\n",
       "      <td>2823</td>\n",
       "      <td>ürün</td>\n",
       "    </tr>\n",
       "    <tr>\n",
       "      <th>4</th>\n",
       "      <td>2578</td>\n",
       "      <td>güzel</td>\n",
       "    </tr>\n",
       "  </tbody>\n",
       "</table>\n",
       "</div>"
      ],
      "text/plain": [
       "   frequency   word\n",
       "0       3185    iyi\n",
       "1       3101    bir\n",
       "2       2862    ses\n",
       "3       2823   ürün\n",
       "4       2578  güzel"
      ]
     },
     "execution_count": 17,
     "metadata": {},
     "output_type": "execute_result"
    }
   ],
   "source": [
    "word_vectorizer = CountVectorizer(ngram_range=(1, 1), analyzer='word')\n",
    "sparse_matrix = word_vectorizer.fit_transform(df[df['Normal_Rate'] == 1]['Text'])\n",
    "frequencies = sum(sparse_matrix).toarray()[0]\n",
    "freq_df = pd.DataFrame(frequencies, index=word_vectorizer.get_feature_names_out(), columns=['frequency']).sort_values(by='frequency', ascending=False)\n",
    "freq_df['word'] = freq_df.index\n",
    "freq_df.reset_index(drop=True, inplace=True)\n",
    "freq_df.head()"
   ]
  },
  {
   "cell_type": "code",
   "execution_count": 18,
   "metadata": {},
   "outputs": [
    {
     "data": {
      "image/png": "[encoded data removed]",
      "text/plain": [
       "<Figure size 640x480 with 1 Axes>"
      ]
     },
     "metadata": {},
     "output_type": "display_data"
    }
   ],
   "source": [
    "freq_df[freq_df['frequency'] > 1000].plot.bar(x='word', y='frequency', title='Top Repeated Words');"
   ]
  },
  {
   "cell_type": "code",
   "execution_count": 19,
   "metadata": {},
   "outputs": [
    {
     "data": {
      "text/html": [
       "<div>\n",
       "<style scoped>\n",
       "    .dataframe tbody tr th:only-of-type {\n",
       "        vertical-align: middle;\n",
       "    }\n",
       "\n",
       "    .dataframe tbody tr th {\n",
       "        vertical-align: top;\n",
       "    }\n",
       "\n",
       "    .dataframe thead th {\n",
       "        text-align: right;\n",
       "    }\n",
       "</style>\n",
       "<table border=\"1\" class=\"dataframe\">\n",
       "  <thead>\n",
       "    <tr style=\"text-align: right;\">\n",
       "      <th></th>\n",
       "      <th>frequency</th>\n",
       "      <th>word</th>\n",
       "    </tr>\n",
       "  </thead>\n",
       "  <tbody>\n",
       "    <tr>\n",
       "      <th>0</th>\n",
       "      <td>899</td>\n",
       "      <td>ses kalitesi</td>\n",
       "    </tr>\n",
       "    <tr>\n",
       "      <th>1</th>\n",
       "      <td>428</td>\n",
       "      <td>tavsiye etmiyorum</td>\n",
       "    </tr>\n",
       "    <tr>\n",
       "      <th>2</th>\n",
       "      <td>378</td>\n",
       "      <td>iade ettim</td>\n",
       "    </tr>\n",
       "    <tr>\n",
       "      <th>3</th>\n",
       "      <td>363</td>\n",
       "      <td>bir ürün</td>\n",
       "    </tr>\n",
       "    <tr>\n",
       "      <th>4</th>\n",
       "      <td>358</td>\n",
       "      <td>karşı tarafa</td>\n",
       "    </tr>\n",
       "  </tbody>\n",
       "</table>\n",
       "</div>"
      ],
      "text/plain": [
       "   frequency               word\n",
       "0        899       ses kalitesi\n",
       "1        428  tavsiye etmiyorum\n",
       "2        378         iade ettim\n",
       "3        363           bir ürün\n",
       "4        358       karşı tarafa"
      ]
     },
     "execution_count": 19,
     "metadata": {},
     "output_type": "execute_result"
    }
   ],
   "source": [
    "word_vectorizer = CountVectorizer(ngram_range=(2, 2), analyzer='word')\n",
    "sparse_matrix = word_vectorizer.fit_transform(df[df['Normal_Rate'] == 0]['Text'])\n",
    "frequencies = sum(sparse_matrix).toarray()[0]\n",
    "freq_df = pd.DataFrame(frequencies, index=word_vectorizer.get_feature_names_out(), columns=['frequency']).sort_values(by='frequency', ascending=False)\n",
    "freq_df['word'] = freq_df.index\n",
    "freq_df.reset_index(drop=True, inplace=True)\n",
    "freq_df.head()"
   ]
  },
  {
   "cell_type": "code",
   "execution_count": 20,
   "metadata": {},
   "outputs": [
    {
     "data": {
      "image/png": "[encoded data removed]",
      "text/plain": [
       "<Figure size 640x480 with 1 Axes>"
      ]
     },
     "metadata": {},
     "output_type": "display_data"
    }
   ],
   "source": [
    "freq_df[freq_df['frequency'] > 200].plot.bar(x='word', y='frequency', title='Top Repeated Words');"
   ]
  },
  {
   "cell_type": "code",
   "execution_count": 21,
   "metadata": {},
   "outputs": [
    {
     "data": {
      "text/html": [
       "<div>\n",
       "<style scoped>\n",
       "    .dataframe tbody tr th:only-of-type {\n",
       "        vertical-align: middle;\n",
       "    }\n",
       "\n",
       "    .dataframe tbody tr th {\n",
       "        vertical-align: top;\n",
       "    }\n",
       "\n",
       "    .dataframe thead th {\n",
       "        text-align: right;\n",
       "    }\n",
       "</style>\n",
       "<table border=\"1\" class=\"dataframe\">\n",
       "  <thead>\n",
       "    <tr style=\"text-align: right;\">\n",
       "      <th></th>\n",
       "      <th>frequency</th>\n",
       "      <th>word</th>\n",
       "    </tr>\n",
       "  </thead>\n",
       "  <tbody>\n",
       "    <tr>\n",
       "      <th>0</th>\n",
       "      <td>1233</td>\n",
       "      <td>ses kalitesi</td>\n",
       "    </tr>\n",
       "    <tr>\n",
       "      <th>1</th>\n",
       "      <td>770</td>\n",
       "      <td>tavsiye ederim</td>\n",
       "    </tr>\n",
       "    <tr>\n",
       "      <th>2</th>\n",
       "      <td>766</td>\n",
       "      <td>bir ürün</td>\n",
       "    </tr>\n",
       "    <tr>\n",
       "      <th>3</th>\n",
       "      <td>755</td>\n",
       "      <td>fiyat performans</td>\n",
       "    </tr>\n",
       "    <tr>\n",
       "      <th>4</th>\n",
       "      <td>563</td>\n",
       "      <td>fiyatına göre</td>\n",
       "    </tr>\n",
       "  </tbody>\n",
       "</table>\n",
       "</div>"
      ],
      "text/plain": [
       "   frequency              word\n",
       "0       1233      ses kalitesi\n",
       "1        770    tavsiye ederim\n",
       "2        766          bir ürün\n",
       "3        755  fiyat performans\n",
       "4        563     fiyatına göre"
      ]
     },
     "execution_count": 21,
     "metadata": {},
     "output_type": "execute_result"
    }
   ],
   "source": [
    "word_vectorizer = CountVectorizer(ngram_range=(2, 2), analyzer='word')\n",
    "sparse_matrix = word_vectorizer.fit_transform(df[df['Normal_Rate'] == 1]['Text'])\n",
    "frequencies = sum(sparse_matrix).toarray()[0]\n",
    "freq_df = pd.DataFrame(frequencies, index=word_vectorizer.get_feature_names_out(), columns=['frequency']).sort_values(by='frequency', ascending=False)\n",
    "freq_df['word'] = freq_df.index\n",
    "freq_df.reset_index(drop=True, inplace=True)\n",
    "freq_df.head()"
   ]
  },
  {
   "cell_type": "code",
   "execution_count": 22,
   "metadata": {},
   "outputs": [
    {
     "data": {
      "image/png": "[encoded data removed]",
      "text/plain": [
       "<Figure size 640x480 with 1 Axes>"
      ]
     },
     "metadata": {},
     "output_type": "display_data"
    }
   ],
   "source": [
    "freq_df[freq_df['frequency'] > 200].plot.bar(x='word', y='frequency', title='Top Repeated Words');"
   ]
  },
  {
   "cell_type": "code",
   "execution_count": 23,
   "metadata": {},
   "outputs": [
    {
     "data": {
      "text/html": [
       "<div>\n",
       "<style scoped>\n",
       "    .dataframe tbody tr th:only-of-type {\n",
       "        vertical-align: middle;\n",
       "    }\n",
       "\n",
       "    .dataframe tbody tr th {\n",
       "        vertical-align: top;\n",
       "    }\n",
       "\n",
       "    .dataframe thead th {\n",
       "        text-align: right;\n",
       "    }\n",
       "</style>\n",
       "<table border=\"1\" class=\"dataframe\">\n",
       "  <thead>\n",
       "    <tr style=\"text-align: right;\">\n",
       "      <th></th>\n",
       "      <th>frequency</th>\n",
       "      <th>word</th>\n",
       "    </tr>\n",
       "  </thead>\n",
       "  <tbody>\n",
       "    <tr>\n",
       "      <th>0</th>\n",
       "      <td>125</td>\n",
       "      <td>ses kalitesi kötü</td>\n",
       "    </tr>\n",
       "    <tr>\n",
       "      <th>1</th>\n",
       "      <td>104</td>\n",
       "      <td>ses kalitesi iyi</td>\n",
       "    </tr>\n",
       "    <tr>\n",
       "      <th>2</th>\n",
       "      <td>101</td>\n",
       "      <td>kesinlikle tavsiye etmiyorum</td>\n",
       "    </tr>\n",
       "    <tr>\n",
       "      <th>3</th>\n",
       "      <td>98</td>\n",
       "      <td>karşı tarafa ses</td>\n",
       "    </tr>\n",
       "    <tr>\n",
       "      <th>4</th>\n",
       "      <td>89</td>\n",
       "      <td>beş para etmez</td>\n",
       "    </tr>\n",
       "  </tbody>\n",
       "</table>\n",
       "</div>"
      ],
      "text/plain": [
       "   frequency                          word\n",
       "0        125             ses kalitesi kötü\n",
       "1        104              ses kalitesi iyi\n",
       "2        101  kesinlikle tavsiye etmiyorum\n",
       "3         98              karşı tarafa ses\n",
       "4         89                beş para etmez"
      ]
     },
     "execution_count": 23,
     "metadata": {},
     "output_type": "execute_result"
    }
   ],
   "source": [
    "word_vectorizer = CountVectorizer(ngram_range=(3, 3), analyzer='word')\n",
    "sparse_matrix = word_vectorizer.fit_transform(df[df['Normal_Rate'] == 0]['Text'])\n",
    "frequencies = sum(sparse_matrix).toarray()[0]\n",
    "freq_df = pd.DataFrame(frequencies, index=word_vectorizer.get_feature_names_out(), columns=['frequency']).sort_values(by='frequency', ascending=False)\n",
    "freq_df['word'] = freq_df.index\n",
    "freq_df.reset_index(drop=True, inplace=True)\n",
    "freq_df.head()"
   ]
  },
  {
   "cell_type": "code",
   "execution_count": 25,
   "metadata": {},
   "outputs": [
    {
     "data": {
      "image/png": "[encoded data removed]",
      "text/plain": [
       "<Figure size 640x480 with 1 Axes>"
      ]
     },
     "metadata": {},
     "output_type": "display_data"
    }
   ],
   "source": [
    "freq_df[freq_df['frequency'] > 50].plot.bar(x='word', y='frequency', title='Top Repeated Words');"
   ]
  },
  {
   "cell_type": "code",
   "execution_count": 26,
   "metadata": {},
   "outputs": [
    {
     "data": {
      "text/html": [
       "<div>\n",
       "<style scoped>\n",
       "    .dataframe tbody tr th:only-of-type {\n",
       "        vertical-align: middle;\n",
       "    }\n",
       "\n",
       "    .dataframe tbody tr th {\n",
       "        vertical-align: top;\n",
       "    }\n",
       "\n",
       "    .dataframe thead th {\n",
       "        text-align: right;\n",
       "    }\n",
       "</style>\n",
       "<table border=\"1\" class=\"dataframe\">\n",
       "  <thead>\n",
       "    <tr style=\"text-align: right;\">\n",
       "      <th></th>\n",
       "      <th>frequency</th>\n",
       "      <th>word</th>\n",
       "    </tr>\n",
       "  </thead>\n",
       "  <tbody>\n",
       "    <tr>\n",
       "      <th>0</th>\n",
       "      <td>481</td>\n",
       "      <td>fiyat performans ürünü</td>\n",
       "    </tr>\n",
       "    <tr>\n",
       "      <th>1</th>\n",
       "      <td>226</td>\n",
       "      <td>ses kalitesi iyi</td>\n",
       "    </tr>\n",
       "    <tr>\n",
       "      <th>2</th>\n",
       "      <td>177</td>\n",
       "      <td>güzel bir ürün</td>\n",
       "    </tr>\n",
       "    <tr>\n",
       "      <th>3</th>\n",
       "      <td>157</td>\n",
       "      <td>fiyatına göre iyi</td>\n",
       "    </tr>\n",
       "    <tr>\n",
       "      <th>4</th>\n",
       "      <td>141</td>\n",
       "      <td>ses kalitesi güzel</td>\n",
       "    </tr>\n",
       "  </tbody>\n",
       "</table>\n",
       "</div>"
      ],
      "text/plain": [
       "   frequency                    word\n",
       "0        481  fiyat performans ürünü\n",
       "1        226        ses kalitesi iyi\n",
       "2        177          güzel bir ürün\n",
       "3        157       fiyatına göre iyi\n",
       "4        141      ses kalitesi güzel"
      ]
     },
     "execution_count": 26,
     "metadata": {},
     "output_type": "execute_result"
    }
   ],
   "source": [
    "word_vectorizer = CountVectorizer(ngram_range=(3, 3), analyzer='word')\n",
    "sparse_matrix = word_vectorizer.fit_transform(df[df['Normal_Rate'] == 1]['Text'])\n",
    "frequencies = sum(sparse_matrix).toarray()[0]\n",
    "freq_df = pd.DataFrame(frequencies, index=word_vectorizer.get_feature_names_out(), columns=['frequency']).sort_values(by='frequency', ascending=False)\n",
    "freq_df['word'] = freq_df.index\n",
    "freq_df.reset_index(drop=True, inplace=True)\n",
    "freq_df.head()"
   ]
  },
  {
   "cell_type": "code",
   "execution_count": 27,
   "metadata": {},
   "outputs": [
    {
     "data": {
      "image/png": "[encoded data removed]",
      "text/plain": [
       "<Figure size 640x480 with 1 Axes>"
      ]
     },
     "metadata": {},
     "output_type": "display_data"
    }
   ],
   "source": [
    "freq_df[freq_df['frequency'] > 50].plot.bar(x='word', y='frequency', title='Top Repeated Words');"
   ]
  },
  {
   "cell_type": "code",
   "execution_count": 13,
   "metadata": {},
   "outputs": [],
   "source": [
    "train, test = train_test_split(model_df, test_size=0.10, random_state=42)\n",
    "train_x, train_y = train['Text'], train['Normal_Rate']\n",
    "test_x, test_y = test['Text'], test['Normal_Rate']"
   ]
  },
  {
   "cell_type": "code",
   "execution_count": 14,
   "metadata": {},
   "outputs": [
    {
     "data": {
      "text/plain": [
       "Normal_Rate\n",
       "1    15139\n",
       "0    13787\n",
       "Name: count, dtype: int64"
      ]
     },
     "execution_count": 14,
     "metadata": {},
     "output_type": "execute_result"
    }
   ],
   "source": [
    "train_y.value_counts()"
   ]
  },
  {
   "cell_type": "code",
   "execution_count": 15,
   "metadata": {},
   "outputs": [],
   "source": [
    "tfid = TfidfVectorizer()"
   ]
  },
  {
   "cell_type": "code",
   "execution_count": 16,
   "metadata": {},
   "outputs": [],
   "source": [
    "train_x_vector = tfid.fit_transform(train_x)\n",
    "test_x_vector = tfid.transform(test_x)"
   ]
  },
  {
   "cell_type": "code",
   "execution_count": 17,
   "metadata": {},
   "outputs": [
    {
     "data": {
      "text/html": [
       "<div>\n",
       "<style scoped>\n",
       "    .dataframe tbody tr th:only-of-type {\n",
       "        vertical-align: middle;\n",
       "    }\n",
       "\n",
       "    .dataframe tbody tr th {\n",
       "        vertical-align: top;\n",
       "    }\n",
       "\n",
       "    .dataframe thead th {\n",
       "        text-align: right;\n",
       "    }\n",
       "</style>\n",
       "<table border=\"1\" class=\"dataframe\">\n",
       "  <thead>\n",
       "    <tr style=\"text-align: right;\">\n",
       "      <th></th>\n",
       "      <th>aaa</th>\n",
       "      <th>aaaa</th>\n",
       "      <th>aaaaaa</th>\n",
       "      <th>aac</th>\n",
       "      <th>aadece</th>\n",
       "      <th>aag</th>\n",
       "      <th>aaçılmıyor</th>\n",
       "      <th>abartarak</th>\n",
       "      <th>abartilacak</th>\n",
       "      <th>abartiyor</th>\n",
       "      <th>...</th>\n",
       "      <th>şıkır</th>\n",
       "      <th>şıkırtı</th>\n",
       "      <th>şımarık</th>\n",
       "      <th>şımdı</th>\n",
       "      <th>şımdıde</th>\n",
       "      <th>şırıl</th>\n",
       "      <th>șarz</th>\n",
       "      <th>șiddetle</th>\n",
       "      <th>șuan</th>\n",
       "      <th>ṣarj</th>\n",
       "    </tr>\n",
       "  </thead>\n",
       "  <tbody>\n",
       "    <tr>\n",
       "      <th>87315</th>\n",
       "      <td>0.0</td>\n",
       "      <td>0.0</td>\n",
       "      <td>0.0</td>\n",
       "      <td>0.0</td>\n",
       "      <td>0.0</td>\n",
       "      <td>0.0</td>\n",
       "      <td>0.0</td>\n",
       "      <td>0.0</td>\n",
       "      <td>0.0</td>\n",
       "      <td>0.0</td>\n",
       "      <td>...</td>\n",
       "      <td>0.0</td>\n",
       "      <td>0.0</td>\n",
       "      <td>0.0</td>\n",
       "      <td>0.0</td>\n",
       "      <td>0.0</td>\n",
       "      <td>0.0</td>\n",
       "      <td>0.0</td>\n",
       "      <td>0.0</td>\n",
       "      <td>0.0</td>\n",
       "      <td>0.0</td>\n",
       "    </tr>\n",
       "    <tr>\n",
       "      <th>98266</th>\n",
       "      <td>0.0</td>\n",
       "      <td>0.0</td>\n",
       "      <td>0.0</td>\n",
       "      <td>0.0</td>\n",
       "      <td>0.0</td>\n",
       "      <td>0.0</td>\n",
       "      <td>0.0</td>\n",
       "      <td>0.0</td>\n",
       "      <td>0.0</td>\n",
       "      <td>0.0</td>\n",
       "      <td>...</td>\n",
       "      <td>0.0</td>\n",
       "      <td>0.0</td>\n",
       "      <td>0.0</td>\n",
       "      <td>0.0</td>\n",
       "      <td>0.0</td>\n",
       "      <td>0.0</td>\n",
       "      <td>0.0</td>\n",
       "      <td>0.0</td>\n",
       "      <td>0.0</td>\n",
       "      <td>0.0</td>\n",
       "    </tr>\n",
       "    <tr>\n",
       "      <th>93306</th>\n",
       "      <td>0.0</td>\n",
       "      <td>0.0</td>\n",
       "      <td>0.0</td>\n",
       "      <td>0.0</td>\n",
       "      <td>0.0</td>\n",
       "      <td>0.0</td>\n",
       "      <td>0.0</td>\n",
       "      <td>0.0</td>\n",
       "      <td>0.0</td>\n",
       "      <td>0.0</td>\n",
       "      <td>...</td>\n",
       "      <td>0.0</td>\n",
       "      <td>0.0</td>\n",
       "      <td>0.0</td>\n",
       "      <td>0.0</td>\n",
       "      <td>0.0</td>\n",
       "      <td>0.0</td>\n",
       "      <td>0.0</td>\n",
       "      <td>0.0</td>\n",
       "      <td>0.0</td>\n",
       "      <td>0.0</td>\n",
       "    </tr>\n",
       "    <tr>\n",
       "      <th>90340</th>\n",
       "      <td>0.0</td>\n",
       "      <td>0.0</td>\n",
       "      <td>0.0</td>\n",
       "      <td>0.0</td>\n",
       "      <td>0.0</td>\n",
       "      <td>0.0</td>\n",
       "      <td>0.0</td>\n",
       "      <td>0.0</td>\n",
       "      <td>0.0</td>\n",
       "      <td>0.0</td>\n",
       "      <td>...</td>\n",
       "      <td>0.0</td>\n",
       "      <td>0.0</td>\n",
       "      <td>0.0</td>\n",
       "      <td>0.0</td>\n",
       "      <td>0.0</td>\n",
       "      <td>0.0</td>\n",
       "      <td>0.0</td>\n",
       "      <td>0.0</td>\n",
       "      <td>0.0</td>\n",
       "      <td>0.0</td>\n",
       "    </tr>\n",
       "    <tr>\n",
       "      <th>57754</th>\n",
       "      <td>0.0</td>\n",
       "      <td>0.0</td>\n",
       "      <td>0.0</td>\n",
       "      <td>0.0</td>\n",
       "      <td>0.0</td>\n",
       "      <td>0.0</td>\n",
       "      <td>0.0</td>\n",
       "      <td>0.0</td>\n",
       "      <td>0.0</td>\n",
       "      <td>0.0</td>\n",
       "      <td>...</td>\n",
       "      <td>0.0</td>\n",
       "      <td>0.0</td>\n",
       "      <td>0.0</td>\n",
       "      <td>0.0</td>\n",
       "      <td>0.0</td>\n",
       "      <td>0.0</td>\n",
       "      <td>0.0</td>\n",
       "      <td>0.0</td>\n",
       "      <td>0.0</td>\n",
       "      <td>0.0</td>\n",
       "    </tr>\n",
       "    <tr>\n",
       "      <th>...</th>\n",
       "      <td>...</td>\n",
       "      <td>...</td>\n",
       "      <td>...</td>\n",
       "      <td>...</td>\n",
       "      <td>...</td>\n",
       "      <td>...</td>\n",
       "      <td>...</td>\n",
       "      <td>...</td>\n",
       "      <td>...</td>\n",
       "      <td>...</td>\n",
       "      <td>...</td>\n",
       "      <td>...</td>\n",
       "      <td>...</td>\n",
       "      <td>...</td>\n",
       "      <td>...</td>\n",
       "      <td>...</td>\n",
       "      <td>...</td>\n",
       "      <td>...</td>\n",
       "      <td>...</td>\n",
       "      <td>...</td>\n",
       "      <td>...</td>\n",
       "    </tr>\n",
       "    <tr>\n",
       "      <th>99561</th>\n",
       "      <td>0.0</td>\n",
       "      <td>0.0</td>\n",
       "      <td>0.0</td>\n",
       "      <td>0.0</td>\n",
       "      <td>0.0</td>\n",
       "      <td>0.0</td>\n",
       "      <td>0.0</td>\n",
       "      <td>0.0</td>\n",
       "      <td>0.0</td>\n",
       "      <td>0.0</td>\n",
       "      <td>...</td>\n",
       "      <td>0.0</td>\n",
       "      <td>0.0</td>\n",
       "      <td>0.0</td>\n",
       "      <td>0.0</td>\n",
       "      <td>0.0</td>\n",
       "      <td>0.0</td>\n",
       "      <td>0.0</td>\n",
       "      <td>0.0</td>\n",
       "      <td>0.0</td>\n",
       "      <td>0.0</td>\n",
       "    </tr>\n",
       "    <tr>\n",
       "      <th>23298</th>\n",
       "      <td>0.0</td>\n",
       "      <td>0.0</td>\n",
       "      <td>0.0</td>\n",
       "      <td>0.0</td>\n",
       "      <td>0.0</td>\n",
       "      <td>0.0</td>\n",
       "      <td>0.0</td>\n",
       "      <td>0.0</td>\n",
       "      <td>0.0</td>\n",
       "      <td>0.0</td>\n",
       "      <td>...</td>\n",
       "      <td>0.0</td>\n",
       "      <td>0.0</td>\n",
       "      <td>0.0</td>\n",
       "      <td>0.0</td>\n",
       "      <td>0.0</td>\n",
       "      <td>0.0</td>\n",
       "      <td>0.0</td>\n",
       "      <td>0.0</td>\n",
       "      <td>0.0</td>\n",
       "      <td>0.0</td>\n",
       "    </tr>\n",
       "    <tr>\n",
       "      <th>3845</th>\n",
       "      <td>0.0</td>\n",
       "      <td>0.0</td>\n",
       "      <td>0.0</td>\n",
       "      <td>0.0</td>\n",
       "      <td>0.0</td>\n",
       "      <td>0.0</td>\n",
       "      <td>0.0</td>\n",
       "      <td>0.0</td>\n",
       "      <td>0.0</td>\n",
       "      <td>0.0</td>\n",
       "      <td>...</td>\n",
       "      <td>0.0</td>\n",
       "      <td>0.0</td>\n",
       "      <td>0.0</td>\n",
       "      <td>0.0</td>\n",
       "      <td>0.0</td>\n",
       "      <td>0.0</td>\n",
       "      <td>0.0</td>\n",
       "      <td>0.0</td>\n",
       "      <td>0.0</td>\n",
       "      <td>0.0</td>\n",
       "    </tr>\n",
       "    <tr>\n",
       "      <th>73580</th>\n",
       "      <td>0.0</td>\n",
       "      <td>0.0</td>\n",
       "      <td>0.0</td>\n",
       "      <td>0.0</td>\n",
       "      <td>0.0</td>\n",
       "      <td>0.0</td>\n",
       "      <td>0.0</td>\n",
       "      <td>0.0</td>\n",
       "      <td>0.0</td>\n",
       "      <td>0.0</td>\n",
       "      <td>...</td>\n",
       "      <td>0.0</td>\n",
       "      <td>0.0</td>\n",
       "      <td>0.0</td>\n",
       "      <td>0.0</td>\n",
       "      <td>0.0</td>\n",
       "      <td>0.0</td>\n",
       "      <td>0.0</td>\n",
       "      <td>0.0</td>\n",
       "      <td>0.0</td>\n",
       "      <td>0.0</td>\n",
       "    </tr>\n",
       "    <tr>\n",
       "      <th>89920</th>\n",
       "      <td>0.0</td>\n",
       "      <td>0.0</td>\n",
       "      <td>0.0</td>\n",
       "      <td>0.0</td>\n",
       "      <td>0.0</td>\n",
       "      <td>0.0</td>\n",
       "      <td>0.0</td>\n",
       "      <td>0.0</td>\n",
       "      <td>0.0</td>\n",
       "      <td>0.0</td>\n",
       "      <td>...</td>\n",
       "      <td>0.0</td>\n",
       "      <td>0.0</td>\n",
       "      <td>0.0</td>\n",
       "      <td>0.0</td>\n",
       "      <td>0.0</td>\n",
       "      <td>0.0</td>\n",
       "      <td>0.0</td>\n",
       "      <td>0.0</td>\n",
       "      <td>0.0</td>\n",
       "      <td>0.0</td>\n",
       "    </tr>\n",
       "  </tbody>\n",
       "</table>\n",
       "<p>28926 rows × 36460 columns</p>\n",
       "</div>"
      ],
      "text/plain": [
       "       aaa  aaaa  aaaaaa  aac  aadece  aag  aaçılmıyor  abartarak  \\\n",
       "87315  0.0   0.0     0.0  0.0     0.0  0.0         0.0        0.0   \n",
       "98266  0.0   0.0     0.0  0.0     0.0  0.0         0.0        0.0   \n",
       "93306  0.0   0.0     0.0  0.0     0.0  0.0         0.0        0.0   \n",
       "90340  0.0   0.0     0.0  0.0     0.0  0.0         0.0        0.0   \n",
       "57754  0.0   0.0     0.0  0.0     0.0  0.0         0.0        0.0   \n",
       "...    ...   ...     ...  ...     ...  ...         ...        ...   \n",
       "99561  0.0   0.0     0.0  0.0     0.0  0.0         0.0        0.0   \n",
       "23298  0.0   0.0     0.0  0.0     0.0  0.0         0.0        0.0   \n",
       "3845   0.0   0.0     0.0  0.0     0.0  0.0         0.0        0.0   \n",
       "73580  0.0   0.0     0.0  0.0     0.0  0.0         0.0        0.0   \n",
       "89920  0.0   0.0     0.0  0.0     0.0  0.0         0.0        0.0   \n",
       "\n",
       "       abartilacak  abartiyor  ...  şıkır  şıkırtı  şımarık  şımdı  şımdıde  \\\n",
       "87315          0.0        0.0  ...    0.0      0.0      0.0    0.0      0.0   \n",
       "98266          0.0        0.0  ...    0.0      0.0      0.0    0.0      0.0   \n",
       "93306          0.0        0.0  ...    0.0      0.0      0.0    0.0      0.0   \n",
       "90340          0.0        0.0  ...    0.0      0.0      0.0    0.0      0.0   \n",
       "57754          0.0        0.0  ...    0.0      0.0      0.0    0.0      0.0   \n",
       "...            ...        ...  ...    ...      ...      ...    ...      ...   \n",
       "99561          0.0        0.0  ...    0.0      0.0      0.0    0.0      0.0   \n",
       "23298          0.0        0.0  ...    0.0      0.0      0.0    0.0      0.0   \n",
       "3845           0.0        0.0  ...    0.0      0.0      0.0    0.0      0.0   \n",
       "73580          0.0        0.0  ...    0.0      0.0      0.0    0.0      0.0   \n",
       "89920          0.0        0.0  ...    0.0      0.0      0.0    0.0      0.0   \n",
       "\n",
       "       şırıl  șarz  șiddetle  șuan  ṣarj  \n",
       "87315    0.0   0.0       0.0   0.0   0.0  \n",
       "98266    0.0   0.0       0.0   0.0   0.0  \n",
       "93306    0.0   0.0       0.0   0.0   0.0  \n",
       "90340    0.0   0.0       0.0   0.0   0.0  \n",
       "57754    0.0   0.0       0.0   0.0   0.0  \n",
       "...      ...   ...       ...   ...   ...  \n",
       "99561    0.0   0.0       0.0   0.0   0.0  \n",
       "23298    0.0   0.0       0.0   0.0   0.0  \n",
       "3845     0.0   0.0       0.0   0.0   0.0  \n",
       "73580    0.0   0.0       0.0   0.0   0.0  \n",
       "89920    0.0   0.0       0.0   0.0   0.0  \n",
       "\n",
       "[28926 rows x 36460 columns]"
      ]
     },
     "execution_count": 17,
     "metadata": {},
     "output_type": "execute_result"
    }
   ],
   "source": [
    "pd.DataFrame.sparse.from_spmatrix(train_x_vector,\n",
    "                                  index=train_x.index,\n",
    "                                  columns=tfid.get_feature_names_out())"
   ]
  },
  {
   "cell_type": "code",
   "execution_count": 18,
   "metadata": {},
   "outputs": [],
   "source": [
    "models = ['SVC', 'DecisionTree', 'LogisticRegression', 'Naive Bayes']\n",
    "model_scores = []\n",
    "run_times = []\n",
    "\n",
    "\n",
    "start_time = time.time()\n",
    "svc = SVC(kernel='linear')\n",
    "svc.fit(train_x_vector, train_y)\n",
    "run_times.append(time.time() - start_time)\n",
    "model_scores.append(svc.score(test_x_vector, test_y))\n",
    "\n",
    "start_time = time.time()\n",
    "dec_tree = DecisionTreeClassifier()\n",
    "dec_tree.fit(train_x_vector, train_y)\n",
    "run_times.append(time.time() - start_time)\n",
    "model_scores.append(dec_tree.score(test_x_vector, test_y))\n",
    "\n",
    "start_time = time.time()\n",
    "log_reg = LogisticRegression()\n",
    "log_reg.fit(train_x_vector, train_y)\n",
    "run_times.append(time.time() - start_time)\n",
    "model_scores.append(log_reg.score(test_x_vector, test_y))\n",
    "\n",
    "start_time = time.time()\n",
    "MNb = MultinomialNB()\n",
    "MNb.fit(train_x_vector, train_y)\n",
    "run_times.append(time.time() - start_time)\n",
    "model_scores.append(MNb.score(test_x_vector, test_y))\n",
    "\n",
    "\n",
    "chime.success()\n"
   ]
  },
  {
   "cell_type": "code",
   "execution_count": 19,
   "metadata": {},
   "outputs": [
    {
     "data": {
      "image/png": "[encoded data removed]",
      "text/plain": [
       "<Figure size 640x480 with 2 Axes>"
      ]
     },
     "metadata": {},
     "output_type": "display_data"
    }
   ],
   "source": [
    "x = np.arange(0, len(models), 1);\n",
    "fig, ax = plt.subplots(nrows=2, ncols=1)\n",
    "\n",
    "plt.xticks(x, models);\n",
    "ax[0].bar(models, run_times);\n",
    "ax[0].set_ylabel('Runtimes');\n",
    "plt.sca(ax[0]);\n",
    "plt.xticks(x, models);\n",
    "\n",
    "ax[1].bar(models, model_scores);\n",
    "ax[1].set_ylabel('Accuracy');\n",
    "plt.sca(ax[1]);\n",
    "plt.xticks(x, models);\n",
    "\n",
    "fig.text(0.5, 0.04, 'Models', ha='center', va='center');"
   ]
  },
  {
   "cell_type": "code",
   "execution_count": 20,
   "metadata": {},
   "outputs": [
    {
     "data": {
      "text/plain": [
       "0.0049741268157958984"
      ]
     },
     "execution_count": 20,
     "metadata": {},
     "output_type": "execute_result"
    }
   ],
   "source": [
    "run_times[3]"
   ]
  },
  {
   "cell_type": "code",
   "execution_count": 21,
   "metadata": {},
   "outputs": [
    {
     "data": {
      "text/plain": [
       "array([[1413,  137],\n",
       "       [ 166, 1499]])"
      ]
     },
     "execution_count": 21,
     "metadata": {},
     "output_type": "execute_result"
    }
   ],
   "source": [
    "conf_mat_dec_tree = confusion_matrix(test_y, log_reg.predict(test_x_vector))\n",
    "conf_mat_dec_tree"
   ]
  },
  {
   "cell_type": "code",
   "execution_count": 22,
   "metadata": {},
   "outputs": [
    {
     "data": {
      "text/plain": [
       "array([[1382,  168],\n",
       "       [ 155, 1510]])"
      ]
     },
     "execution_count": 22,
     "metadata": {},
     "output_type": "execute_result"
    }
   ],
   "source": [
    "conf_mat_dec_tree = confusion_matrix(test_y, MNb.predict(test_x_vector))\n",
    "conf_mat_dec_tree"
   ]
  },
  {
   "cell_type": "code",
   "execution_count": 23,
   "metadata": {},
   "outputs": [
    {
     "data": {
      "text/plain": [
       "<Axes: >"
      ]
     },
     "execution_count": 23,
     "metadata": {},
     "output_type": "execute_result"
    },
    {
     "data": {
      "image/png": "[encoded data removed]",
      "text/plain": [
       "<Figure size 640x480 with 2 Axes>"
      ]
     },
     "metadata": {},
     "output_type": "display_data"
    }
   ],
   "source": [
    "sns.heatmap(conf_mat_dec_tree, cmap='gray')"
   ]
  },
  {
   "cell_type": "code",
   "execution_count": 24,
   "metadata": {},
   "outputs": [
    {
     "data": {
      "text/plain": [
       "[61.27346205711365,\n",
       " 2.7512028217315674,\n",
       " 0.294543981552124,\n",
       " 0.0049741268157958984]"
      ]
     },
     "execution_count": 24,
     "metadata": {},
     "output_type": "execute_result"
    }
   ],
   "source": [
    "run_times"
   ]
  },
  {
   "cell_type": "code",
   "execution_count": 25,
   "metadata": {},
   "outputs": [
    {
     "data": {
      "text/plain": [
       "[0.9085536547433903,\n",
       " 0.8441679626749611,\n",
       " 0.9057542768273716,\n",
       " 0.8995334370139969]"
      ]
     },
     "execution_count": 25,
     "metadata": {},
     "output_type": "execute_result"
    }
   ],
   "source": [
    "model_scores"
   ]
  },
  {
   "cell_type": "code",
   "execution_count": 26,
   "metadata": {},
   "outputs": [
    {
     "data": {
      "text/html": [
       "<style>#sk-container-id-1 {color: black;background-color: white;}#sk-container-id-1 pre{padding: 0;}#sk-container-id-1 div.sk-toggleable {background-color: white;}#sk-container-id-1 label.sk-toggleable__label {cursor: pointer;display: block;width: 100%;margin-bottom: 0;padding: 0.3em;box-sizing: border-box;text-align: center;}#sk-container-id-1 label.sk-toggleable__label-arrow:before {content: \"▸\";float: left;margin-right: 0.25em;color: #696969;}#sk-container-id-1 label.sk-toggleable__label-arrow:hover:before {color: black;}#sk-container-id-1 div.sk-estimator:hover label.sk-toggleable__label-arrow:before {color: black;}#sk-container-id-1 div.sk-toggleable__content {max-height: 0;max-width: 0;overflow: hidden;text-align: left;background-color: #f0f8ff;}#sk-container-id-1 div.sk-toggleable__content pre {margin: 0.2em;color: black;border-radius: 0.25em;background-color: #f0f8ff;}#sk-container-id-1 input.sk-toggleable__control:checked~div.sk-toggleable__content {max-height: 200px;max-width: 100%;overflow: auto;}#sk-container-id-1 input.sk-toggleable__control:checked~label.sk-toggleable__label-arrow:before {content: \"▾\";}#sk-container-id-1 div.sk-estimator input.sk-toggleable__control:checked~label.sk-toggleable__label {background-color: #d4ebff;}#sk-container-id-1 div.sk-label input.sk-toggleable__control:checked~label.sk-toggleable__label {background-color: #d4ebff;}#sk-container-id-1 input.sk-hidden--visually {border: 0;clip: rect(1px 1px 1px 1px);clip: rect(1px, 1px, 1px, 1px);height: 1px;margin: -1px;overflow: hidden;padding: 0;position: absolute;width: 1px;}#sk-container-id-1 div.sk-estimator {font-family: monospace;background-color: #f0f8ff;border: 1px dotted black;border-radius: 0.25em;box-sizing: border-box;margin-bottom: 0.5em;}#sk-container-id-1 div.sk-estimator:hover {background-color: #d4ebff;}#sk-container-id-1 div.sk-parallel-item::after {content: \"\";width: 100%;border-bottom: 1px solid gray;flex-grow: 1;}#sk-container-id-1 div.sk-label:hover label.sk-toggleable__label {background-color: #d4ebff;}#sk-container-id-1 div.sk-serial::before {content: \"\";position: absolute;border-left: 1px solid gray;box-sizing: border-box;top: 0;bottom: 0;left: 50%;z-index: 0;}#sk-container-id-1 div.sk-serial {display: flex;flex-direction: column;align-items: center;background-color: white;padding-right: 0.2em;padding-left: 0.2em;position: relative;}#sk-container-id-1 div.sk-item {position: relative;z-index: 1;}#sk-container-id-1 div.sk-parallel {display: flex;align-items: stretch;justify-content: center;background-color: white;position: relative;}#sk-container-id-1 div.sk-item::before, #sk-container-id-1 div.sk-parallel-item::before {content: \"\";position: absolute;border-left: 1px solid gray;box-sizing: border-box;top: 0;bottom: 0;left: 50%;z-index: -1;}#sk-container-id-1 div.sk-parallel-item {display: flex;flex-direction: column;z-index: 1;position: relative;background-color: white;}#sk-container-id-1 div.sk-parallel-item:first-child::after {align-self: flex-end;width: 50%;}#sk-container-id-1 div.sk-parallel-item:last-child::after {align-self: flex-start;width: 50%;}#sk-container-id-1 div.sk-parallel-item:only-child::after {width: 0;}#sk-container-id-1 div.sk-dashed-wrapped {border: 1px dashed gray;margin: 0 0.4em 0.5em 0.4em;box-sizing: border-box;padding-bottom: 0.4em;background-color: white;}#sk-container-id-1 div.sk-label label {font-family: monospace;font-weight: bold;display: inline-block;line-height: 1.2em;}#sk-container-id-1 div.sk-label-container {text-align: center;}#sk-container-id-1 div.sk-container {/* jupyter's `normalize.less` sets `[hidden] { display: none; }` but bootstrap.min.css set `[hidden] { display: none !important; }` so we also need the `!important` here to be able to override the default hidden behavior on the sphinx rendered scikit-learn.org. See: https://github.com/scikit-learn/scikit-learn/issues/21755 */display: inline-block !important;position: relative;}#sk-container-id-1 div.sk-text-repr-fallback {display: none;}</style><div id=\"sk-container-id-1\" class=\"sk-top-container\"><div class=\"sk-text-repr-fallback\"><pre>BayesSearchCV(estimator=MultinomialNB(), random_state=42,\n",
       "              search_spaces={&#x27;alpha&#x27;: Real(low=1e-06, high=1000000.0, prior=&#x27;log-uniform&#x27;, transform=&#x27;normalize&#x27;)})</pre><b>In a Jupyter environment, please rerun this cell to show the HTML representation or trust the notebook. <br />On GitHub, the HTML representation is unable to render, please try loading this page with nbviewer.org.</b></div><div class=\"sk-container\" hidden><div class=\"sk-item sk-dashed-wrapped\"><div class=\"sk-label-container\"><div class=\"sk-label sk-toggleable\"><input class=\"sk-toggleable__control sk-hidden--visually\" id=\"sk-estimator-id-1\" type=\"checkbox\" ><label for=\"sk-estimator-id-1\" class=\"sk-toggleable__label sk-toggleable__label-arrow\">BayesSearchCV</label><div class=\"sk-toggleable__content\"><pre>BayesSearchCV(estimator=MultinomialNB(), random_state=42,\n",
       "              search_spaces={&#x27;alpha&#x27;: Real(low=1e-06, high=1000000.0, prior=&#x27;log-uniform&#x27;, transform=&#x27;normalize&#x27;)})</pre></div></div></div><div class=\"sk-parallel\"><div class=\"sk-parallel-item\"><div class=\"sk-item\"><div class=\"sk-label-container\"><div class=\"sk-label sk-toggleable\"><input class=\"sk-toggleable__control sk-hidden--visually\" id=\"sk-estimator-id-2\" type=\"checkbox\" ><label for=\"sk-estimator-id-2\" class=\"sk-toggleable__label sk-toggleable__label-arrow\">estimator: MultinomialNB</label><div class=\"sk-toggleable__content\"><pre>MultinomialNB()</pre></div></div></div><div class=\"sk-serial\"><div class=\"sk-item\"><div class=\"sk-estimator sk-toggleable\"><input class=\"sk-toggleable__control sk-hidden--visually\" id=\"sk-estimator-id-3\" type=\"checkbox\" ><label for=\"sk-estimator-id-3\" class=\"sk-toggleable__label sk-toggleable__label-arrow\">MultinomialNB</label><div class=\"sk-toggleable__content\"><pre>MultinomialNB()</pre></div></div></div></div></div></div></div></div></div></div>"
      ],
      "text/plain": [
       "BayesSearchCV(estimator=MultinomialNB(), random_state=42,\n",
       "              search_spaces={'alpha': Real(low=1e-06, high=1000000.0, prior='log-uniform', transform='normalize')})"
      ]
     },
     "execution_count": 26,
     "metadata": {},
     "output_type": "execute_result"
    }
   ],
   "source": [
    "# For MultinomialNB, alpha is 1.0 by default.\n",
    "opt = BayesSearchCV(\n",
    "    MultinomialNB(),\n",
    "    {'alpha': Real(1e-6, 1e+6, prior='log-uniform')},\n",
    "    random_state=42)\n",
    "opt.fit(train_x_vector, train_y)"
   ]
  },
  {
   "cell_type": "code",
   "execution_count": 27,
   "metadata": {},
   "outputs": [
    {
     "name": "stdout",
     "output_type": "stream",
     "text": [
      "val. score: 0.8960451971662294\n",
      "best params: OrderedDict([('alpha', 1.8543350668235166)])\n",
      "test score: 0.9010886469673406\n"
     ]
    }
   ],
   "source": [
    "print(\"val. score: %s\" % opt.best_score_)\n",
    "print(\"best params: %s\" % opt.best_params_)\n",
    "print(\"test score: %s\" % opt.score(test_x_vector, test_y))\n"
   ]
  },
  {
   "cell_type": "code",
   "execution_count": 28,
   "metadata": {},
   "outputs": [
    {
     "data": {
      "text/plain": [
       "[          fun: -0.8960451971662294\n",
       "             x: [1.8543350668235166]\n",
       "     func_vals: [-8.878e-01 -5.234e-01 ... -8.227e-01 -8.601e-01]\n",
       "       x_iters: [[0.08341564384216595], [11185.625288472094], [0.21776603694820984], [5607.275056505338], [3932.2516133086], [643.1854566491933], [25.406936492978463], [3.317697704417197], [292237.4271599055], [1.10551257524209e-06], [0.00017729125737724494], [0.0033914266318647718], [1.1951388073164376e-05], [8.409214695216157], [0.8856840390872973], [0.018455887335822995], [1.6759336548482187], [0.0007867670584518212], [0.5387649919706414], [3.3266154050790984e-06], [1.4042571452270018], [2.376401833286725], [1.0310694767304363], [64.99914644153664], [4.827280143424323e-05], [4.5060539647740265], [0.7220076403025173], [1.8649913844452795], [1.8543350668235166], [1.5344272524149396], [2.038410579309617], [0.039728875531497045], [0.007885657920737945], [1.4496659135081205], [1.8810497603169583], [998388.872832996], [14.095198834894804], [2.434136896426558], [1.620539156562619], [0.35205283156778955], [1.646990489029816], [0.738134477632731], [1.6797065108847664], [1.3661946669766365], [0.13983840931889369], [1.7836648316927604], [1.7910698089282442], [0.001610817546037728], [146.64063352465362], [0.0003653083575154001]]\n",
       "        models: [GaussianProcessRegressor(kernel=1**2 * Matern(length_scale=1, nu=2.5) + WhiteKernel(noise_level=1),\n",
       "                                         n_restarts_optimizer=2, noise='gaussian',\n",
       "                                         normalize_y=True, random_state=1608637542), GaussianProcessRegressor(kernel=1**2 * Matern(length_scale=1, nu=2.5) + WhiteKernel(noise_level=1),\n",
       "                                         n_restarts_optimizer=2, noise='gaussian',\n",
       "                                         normalize_y=True, random_state=1608637542), GaussianProcessRegressor(kernel=1**2 * Matern(length_scale=1, nu=2.5) + WhiteKernel(noise_level=1),\n",
       "                                         n_restarts_optimizer=2, noise='gaussian',\n",
       "                                         normalize_y=True, random_state=1608637542), GaussianProcessRegressor(kernel=1**2 * Matern(length_scale=1, nu=2.5) + WhiteKernel(noise_level=1),\n",
       "                                         n_restarts_optimizer=2, noise='gaussian',\n",
       "                                         normalize_y=True, random_state=1608637542), GaussianProcessRegressor(kernel=1**2 * Matern(length_scale=1, nu=2.5) + WhiteKernel(noise_level=1),\n",
       "                                         n_restarts_optimizer=2, noise='gaussian',\n",
       "                                         normalize_y=True, random_state=1608637542), GaussianProcessRegressor(kernel=1**2 * Matern(length_scale=1, nu=2.5) + WhiteKernel(noise_level=1),\n",
       "                                         n_restarts_optimizer=2, noise='gaussian',\n",
       "                                         normalize_y=True, random_state=1608637542), GaussianProcessRegressor(kernel=1**2 * Matern(length_scale=1, nu=2.5) + WhiteKernel(noise_level=1),\n",
       "                                         n_restarts_optimizer=2, noise='gaussian',\n",
       "                                         normalize_y=True, random_state=1608637542), GaussianProcessRegressor(kernel=1**2 * Matern(length_scale=1, nu=2.5) + WhiteKernel(noise_level=1),\n",
       "                                         n_restarts_optimizer=2, noise='gaussian',\n",
       "                                         normalize_y=True, random_state=1608637542), GaussianProcessRegressor(kernel=1**2 * Matern(length_scale=1, nu=2.5) + WhiteKernel(noise_level=1),\n",
       "                                         n_restarts_optimizer=2, noise='gaussian',\n",
       "                                         normalize_y=True, random_state=1608637542), GaussianProcessRegressor(kernel=1**2 * Matern(length_scale=1, nu=2.5) + WhiteKernel(noise_level=1),\n",
       "                                         n_restarts_optimizer=2, noise='gaussian',\n",
       "                                         normalize_y=True, random_state=1608637542), GaussianProcessRegressor(kernel=1**2 * Matern(length_scale=1, nu=2.5) + WhiteKernel(noise_level=1),\n",
       "                                         n_restarts_optimizer=2, noise='gaussian',\n",
       "                                         normalize_y=True, random_state=1608637542), GaussianProcessRegressor(kernel=1**2 * Matern(length_scale=1, nu=2.5) + WhiteKernel(noise_level=1),\n",
       "                                         n_restarts_optimizer=2, noise='gaussian',\n",
       "                                         normalize_y=True, random_state=1608637542), GaussianProcessRegressor(kernel=1**2 * Matern(length_scale=1, nu=2.5) + WhiteKernel(noise_level=1),\n",
       "                                         n_restarts_optimizer=2, noise='gaussian',\n",
       "                                         normalize_y=True, random_state=1608637542), GaussianProcessRegressor(kernel=1**2 * Matern(length_scale=1, nu=2.5) + WhiteKernel(noise_level=1),\n",
       "                                         n_restarts_optimizer=2, noise='gaussian',\n",
       "                                         normalize_y=True, random_state=1608637542), GaussianProcessRegressor(kernel=1**2 * Matern(length_scale=1, nu=2.5) + WhiteKernel(noise_level=1),\n",
       "                                         n_restarts_optimizer=2, noise='gaussian',\n",
       "                                         normalize_y=True, random_state=1608637542), GaussianProcessRegressor(kernel=1**2 * Matern(length_scale=1, nu=2.5) + WhiteKernel(noise_level=1),\n",
       "                                         n_restarts_optimizer=2, noise='gaussian',\n",
       "                                         normalize_y=True, random_state=1608637542), GaussianProcessRegressor(kernel=1**2 * Matern(length_scale=1, nu=2.5) + WhiteKernel(noise_level=1),\n",
       "                                         n_restarts_optimizer=2, noise='gaussian',\n",
       "                                         normalize_y=True, random_state=1608637542), GaussianProcessRegressor(kernel=1**2 * Matern(length_scale=1, nu=2.5) + WhiteKernel(noise_level=1),\n",
       "                                         n_restarts_optimizer=2, noise='gaussian',\n",
       "                                         normalize_y=True, random_state=1608637542), GaussianProcessRegressor(kernel=1**2 * Matern(length_scale=1, nu=2.5) + WhiteKernel(noise_level=1),\n",
       "                                         n_restarts_optimizer=2, noise='gaussian',\n",
       "                                         normalize_y=True, random_state=1608637542), GaussianProcessRegressor(kernel=1**2 * Matern(length_scale=1, nu=2.5) + WhiteKernel(noise_level=1),\n",
       "                                         n_restarts_optimizer=2, noise='gaussian',\n",
       "                                         normalize_y=True, random_state=1608637542), GaussianProcessRegressor(kernel=1**2 * Matern(length_scale=1, nu=2.5) + WhiteKernel(noise_level=1),\n",
       "                                         n_restarts_optimizer=2, noise='gaussian',\n",
       "                                         normalize_y=True, random_state=1608637542), GaussianProcessRegressor(kernel=1**2 * Matern(length_scale=1, nu=2.5) + WhiteKernel(noise_level=1),\n",
       "                                         n_restarts_optimizer=2, noise='gaussian',\n",
       "                                         normalize_y=True, random_state=1608637542), GaussianProcessRegressor(kernel=1**2 * Matern(length_scale=1, nu=2.5) + WhiteKernel(noise_level=1),\n",
       "                                         n_restarts_optimizer=2, noise='gaussian',\n",
       "                                         normalize_y=True, random_state=1608637542), GaussianProcessRegressor(kernel=1**2 * Matern(length_scale=1, nu=2.5) + WhiteKernel(noise_level=1),\n",
       "                                         n_restarts_optimizer=2, noise='gaussian',\n",
       "                                         normalize_y=True, random_state=1608637542), GaussianProcessRegressor(kernel=1**2 * Matern(length_scale=1, nu=2.5) + WhiteKernel(noise_level=1),\n",
       "                                         n_restarts_optimizer=2, noise='gaussian',\n",
       "                                         normalize_y=True, random_state=1608637542), GaussianProcessRegressor(kernel=1**2 * Matern(length_scale=1, nu=2.5) + WhiteKernel(noise_level=1),\n",
       "                                         n_restarts_optimizer=2, noise='gaussian',\n",
       "                                         normalize_y=True, random_state=1608637542), GaussianProcessRegressor(kernel=1**2 * Matern(length_scale=1, nu=2.5) + WhiteKernel(noise_level=1),\n",
       "                                         n_restarts_optimizer=2, noise='gaussian',\n",
       "                                         normalize_y=True, random_state=1608637542), GaussianProcessRegressor(kernel=1**2 * Matern(length_scale=1, nu=2.5) + WhiteKernel(noise_level=1),\n",
       "                                         n_restarts_optimizer=2, noise='gaussian',\n",
       "                                         normalize_y=True, random_state=1608637542), GaussianProcessRegressor(kernel=1**2 * Matern(length_scale=1, nu=2.5) + WhiteKernel(noise_level=1),\n",
       "                                         n_restarts_optimizer=2, noise='gaussian',\n",
       "                                         normalize_y=True, random_state=1608637542), GaussianProcessRegressor(kernel=1**2 * Matern(length_scale=1, nu=2.5) + WhiteKernel(noise_level=1),\n",
       "                                         n_restarts_optimizer=2, noise='gaussian',\n",
       "                                         normalize_y=True, random_state=1608637542), GaussianProcessRegressor(kernel=1**2 * Matern(length_scale=1, nu=2.5) + WhiteKernel(noise_level=1),\n",
       "                                         n_restarts_optimizer=2, noise='gaussian',\n",
       "                                         normalize_y=True, random_state=1608637542), GaussianProcessRegressor(kernel=1**2 * Matern(length_scale=1, nu=2.5) + WhiteKernel(noise_level=1),\n",
       "                                         n_restarts_optimizer=2, noise='gaussian',\n",
       "                                         normalize_y=True, random_state=1608637542), GaussianProcessRegressor(kernel=1**2 * Matern(length_scale=1, nu=2.5) + WhiteKernel(noise_level=1),\n",
       "                                         n_restarts_optimizer=2, noise='gaussian',\n",
       "                                         normalize_y=True, random_state=1608637542), GaussianProcessRegressor(kernel=1**2 * Matern(length_scale=1, nu=2.5) + WhiteKernel(noise_level=1),\n",
       "                                         n_restarts_optimizer=2, noise='gaussian',\n",
       "                                         normalize_y=True, random_state=1608637542), GaussianProcessRegressor(kernel=1**2 * Matern(length_scale=1, nu=2.5) + WhiteKernel(noise_level=1),\n",
       "                                         n_restarts_optimizer=2, noise='gaussian',\n",
       "                                         normalize_y=True, random_state=1608637542), GaussianProcessRegressor(kernel=1**2 * Matern(length_scale=1, nu=2.5) + WhiteKernel(noise_level=1),\n",
       "                                         n_restarts_optimizer=2, noise='gaussian',\n",
       "                                         normalize_y=True, random_state=1608637542), GaussianProcessRegressor(kernel=1**2 * Matern(length_scale=1, nu=2.5) + WhiteKernel(noise_level=1),\n",
       "                                         n_restarts_optimizer=2, noise='gaussian',\n",
       "                                         normalize_y=True, random_state=1608637542), GaussianProcessRegressor(kernel=1**2 * Matern(length_scale=1, nu=2.5) + WhiteKernel(noise_level=1),\n",
       "                                         n_restarts_optimizer=2, noise='gaussian',\n",
       "                                         normalize_y=True, random_state=1608637542), GaussianProcessRegressor(kernel=1**2 * Matern(length_scale=1, nu=2.5) + WhiteKernel(noise_level=1),\n",
       "                                         n_restarts_optimizer=2, noise='gaussian',\n",
       "                                         normalize_y=True, random_state=1608637542), GaussianProcessRegressor(kernel=1**2 * Matern(length_scale=1, nu=2.5) + WhiteKernel(noise_level=1),\n",
       "                                         n_restarts_optimizer=2, noise='gaussian',\n",
       "                                         normalize_y=True, random_state=1608637542), GaussianProcessRegressor(kernel=1**2 * Matern(length_scale=1, nu=2.5) + WhiteKernel(noise_level=1),\n",
       "                                         n_restarts_optimizer=2, noise='gaussian',\n",
       "                                         normalize_y=True, random_state=1608637542)]\n",
       "         space: Space([Real(low=1e-06, high=1000000.0, prior='log-uniform', transform='normalize')])\n",
       "  random_state: RandomState(MT19937)\n",
       "         specs:     args:              dimensions: [Real(low=1e-06, high=1000000.0, prior='log-uniform', transform='normalize')]\n",
       "                                   base_estimator: gp\n",
       "                                  n_random_starts: None\n",
       "                                 n_initial_points: 10\n",
       "                          initial_point_generator: random\n",
       "                                           n_jobs: 1\n",
       "                                         acq_func: gp_hedge\n",
       "                                    acq_optimizer: auto\n",
       "                                     random_state: RandomState(MT19937)\n",
       "                                 model_queue_size: None\n",
       "                                  acq_func_kwargs: None\n",
       "                             acq_optimizer_kwargs: None\n",
       "                function: Optimizer]"
      ]
     },
     "execution_count": 28,
     "metadata": {},
     "output_type": "execute_result"
    }
   ],
   "source": [
    "opt.optimizer_results_"
   ]
  },
  {
   "cell_type": "code",
   "execution_count": 29,
   "metadata": {},
   "outputs": [
    {
     "data": {
      "image/png": "[encoded data removed]",
      "text/plain": [
       "<Figure size 640x480 with 2 Axes>"
      ]
     },
     "metadata": {},
     "output_type": "display_data"
    }
   ],
   "source": [
    "sns.heatmap(confusion_matrix(test_y, opt.predict(test_x_vector)), cmap='gray');"
   ]
  },
  {
   "cell_type": "code",
   "execution_count": 30,
   "metadata": {},
   "outputs": [
    {
     "data": {
      "text/plain": [
       "array([[1384,  166],\n",
       "       [ 152, 1513]])"
      ]
     },
     "execution_count": 30,
     "metadata": {},
     "output_type": "execute_result"
    }
   ],
   "source": [
    "confusion_matrix(test_y, opt.predict(test_x_vector))"
   ]
  }
 ],
 "metadata": {
  "kernelspec": {
   "display_name": "Python 3",
   "language": "python",
   "name": "python3"
  },
  "language_info": {
   "codemirror_mode": {
    "name": "ipython",
    "version": 3
   },
   "file_extension": ".py",
   "mimetype": "text/x-python",
   "name": "python",
   "nbconvert_exporter": "python",
   "pygments_lexer": "ipython3",
   "version": "3.8.10"
  },
  "orig_nbformat": 4
 },
 "nbformat": 4,
 "nbformat_minor": 2
}
